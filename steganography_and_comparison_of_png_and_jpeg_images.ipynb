{
  "nbformat": 4,
  "nbformat_minor": 0,
  "metadata": {
    "colab": {
      "provenance": []
    },
    "kernelspec": {
      "name": "python3",
      "display_name": "Python 3"
    }
  },
  "cells": [
    {
      "cell_type": "code",
      "metadata": {
        "id": "4zC7C3X846zM"
      },
      "source": [
        "#import libraries\n",
        "\n",
        "import numpy as np\n",
        "from PIL import Image"
      ],
      "execution_count": 1,
      "outputs": []
    },
    {
      "cell_type": "code",
      "metadata": {
        "colab": {
          "base_uri": "https://localhost:8080/"
        },
        "id": "8-e0HHVEgpVo",
        "outputId": "312d22a5-189b-4f4f-97f2-330d4a711cd8"
      },
      "source": [
        "#encoding function\n",
        "def Encode(src, message, dest):\n",
        "\n",
        "    img = Image.open(src, 'r')\n",
        "    width, height = img.size\n",
        "    array = np.array(list(img.getdata()))\n",
        "\n",
        "    if img.mode == 'RGB':\n",
        "        n = 3\n",
        "        m = 0\n",
        "    elif img.mode == 'RGBA':\n",
        "        n = 4\n",
        "        m = 1\n",
        "\n",
        "    total_pixels = array.size//n\n",
        "\n",
        "    message += \"$t3g0\"\n",
        "    b_message = ''.join([format(ord(i), \"08b\") for i in message])\n",
        "    req_pixels = len(b_message)\n",
        "\n",
        "    if req_pixels > total_pixels:\n",
        "        print(\"ERROR: Need larger file size\")\n",
        "\n",
        "    else:\n",
        "        index=0\n",
        "        for p in range(total_pixels):\n",
        "            for q in range(m, n):\n",
        "                if index < req_pixels:\n",
        "                    array[p][q] = int(bin(array[p][q])[2:9] + b_message[index], 2)\n",
        "                    index += 1\n",
        "\n",
        "        array=array.reshape(height, width, n)\n",
        "        enc_img = Image.fromarray(array.astype('uint8'), img.mode)\n",
        "        enc_img.save(dest)\n",
        "        print(\"Image Encoded Successfully\")\n",
        "\n",
        "\n",
        "#decoding function\n",
        "def Decode(src):\n",
        "\n",
        "    img = Image.open(src, 'r')\n",
        "    array = np.array(list(img.getdata()))\n",
        "\n",
        "    if img.mode == 'RGB':\n",
        "        n = 3\n",
        "        m = 0\n",
        "    elif img.mode == 'RGBA':\n",
        "        n = 4\n",
        "        m = 1\n",
        "\n",
        "    total_pixels = array.size//n\n",
        "\n",
        "    hidden_bits = \"\"\n",
        "    for p in range(total_pixels):\n",
        "        for q in range(m, n):\n",
        "            hidden_bits += (bin(array[p][q])[2:][-1])\n",
        "\n",
        "    hidden_bits = [hidden_bits[i:i+8] for i in range(0, len(hidden_bits), 8)]\n",
        "\n",
        "    message = \"\"\n",
        "    for i in range(len(hidden_bits)):\n",
        "        if message[-5:] == \"$t3g0\":\n",
        "            break\n",
        "        else:\n",
        "            message += chr(int(hidden_bits[i], 2))\n",
        "    if \"$t3g0\" in message:\n",
        "        print(\"Hidden Message:\", message[:-5])\n",
        "    else:\n",
        "        print(\"No Hidden Message Found\")\n",
        "\n",
        "#main function\n",
        "def Stego():\n",
        "    print(\"--Welcome to $t3g0--\")\n",
        "    print(\"1: Encode\")\n",
        "    print(\"2: Decode\")\n",
        "\n",
        "    func = input()\n",
        "\n",
        "    if func == '1':\n",
        "        print(\"Enter Source Image Path\")\n",
        "        src = input()\n",
        "        print(\"Enter Message to Hide\")\n",
        "        message = input()\n",
        "        print(\"Enter Destination Image Path\")\n",
        "        dest = input()\n",
        "        print(\"Encoding...\")\n",
        "        Encode(src, message, dest)\n",
        "\n",
        "    elif func == '2':\n",
        "        print(\"Enter Source Image Path\")\n",
        "        src = input()\n",
        "        print(\"Decoding...\")\n",
        "        Decode(src)\n",
        "\n",
        "    else:\n",
        "        print(\"ERROR: Invalid option chosen\")\n",
        "\n",
        "Stego()\n"
      ],
      "execution_count": 28,
      "outputs": [
        {
          "output_type": "stream",
          "name": "stdout",
          "text": [
            "--Welcome to $t3g0--\n",
            "1: Encode\n",
            "2: Decode\n",
            "1\n",
            "Enter Source Image Path\n",
            "/content/lena2.png\n",
            "Enter Message to Hide\n",
            "the password is 123$$$\n",
            "Enter Destination Image Path\n",
            "/content/stegolena2.png\n",
            "Encoding...\n",
            "Image Encoded Successfully\n"
          ]
        }
      ]
    },
    {
      "cell_type": "code",
      "metadata": {
        "id": "nB0CkgFeyIXU"
      },
      "source": [
        "from skimage import data, img_as_float\n",
        "from skimage.metrics import structural_similarity as ssim\n",
        "def ssimcal(img,stego):\n",
        "  s=ssim(img,stego,multichannel= True)\n",
        "  return s"
      ],
      "execution_count": 34,
      "outputs": []
    },
    {
      "cell_type": "code",
      "metadata": {
        "id": "M05SFDVMscic"
      },
      "source": [
        "def mse(original, stego):\n",
        "\t# the 'Mean Squared Error' between the two images is the\n",
        "\t# sum of the squared difference between the two images;\n",
        "\t# NOTE: the two images must have the same dimension\n",
        "\terr = np.sum((original.astype(\"float\") - stego.astype(\"float\")) ** 2)\n",
        "\terr /= float(original.shape[0] * stego.shape[1])\n",
        "\n",
        "\t# return the MSE, the lower the error, the more \"similar\"\n",
        "\t# the two images are\n",
        "\treturn err"
      ],
      "execution_count": 35,
      "outputs": []
    },
    {
      "cell_type": "code",
      "metadata": {
        "colab": {
          "base_uri": "https://localhost:8080/"
        },
        "id": "ykfAt_eyc1GI",
        "outputId": "8867bbae-ae94-4e5d-a1f2-3892cd2fb955"
      },
      "source": [
        "import cv2\n",
        "from google.colab.patches import cv2_imshow\n",
        "lenaoriginal_png = cv2.imread('/content/lena2.png')\n",
        "lenastego_png=cv2.imread('/content/stegolena2.png')\n",
        "\n",
        "lenassim_png=ssimcal(lenaoriginal_png,lenastego_png)\n",
        "lenamse_png=mse(lenaoriginal_png,lenastego_png)\n",
        "print(\"SSIM value for png image =\",lenassim_png)\n",
        "print(\"mse value for png  image =\",lenamse_png)\n",
        "\n",
        "original_jpeg = cv2.imread('/content/lena.jpeg')\n",
        "stego_jpeg=cv2.imread('/content/stegolena.jpeg')\n",
        "\n",
        "lenassim_jpeg=ssimcal(lenaoriginal_png,lenastego_png)\n",
        "lenamse_jpeg=mse(lenaoriginal_png,lenastego_png)\n",
        "print(\"SSIM value for jpeg  image =\",lenassim_jpeg)\n",
        "print(\"mse value for jpeg  image =\",lenamse_jpeg)\n",
        "\n",
        "#Lower the mse value more is the image similar\n",
        "#Higher the ssim more is the image similar"
      ],
      "execution_count": 39,
      "outputs": [
        {
          "output_type": "stream",
          "name": "stdout",
          "text": [
            "SSIM value for png image = 0.9991834879138047\n",
            "mse value for png  image = 23.69528888888889\n",
            "SSIM value for jpeg  image = 0.9991834879138047\n",
            "mse value for jpeg  image = 23.69528888888889\n"
          ]
        },
        {
          "output_type": "stream",
          "name": "stderr",
          "text": [
            "<ipython-input-34-4cf92be4d4aa>:4: FutureWarning: `multichannel` is a deprecated argument name for `structural_similarity`. It will be removed in version 1.0. Please use `channel_axis` instead.\n",
            "  s=ssim(img,stego,multichannel= True)\n"
          ]
        }
      ]
    }
  ]
}